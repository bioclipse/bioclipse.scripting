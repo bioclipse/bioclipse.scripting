{
 "cells": [
  {
   "cell_type": "code",
   "execution_count": null,
   "id": "cde2c36e",
   "metadata": {},
   "outputs": [],
   "source": [
    "!apt install maven"
   ]
  },
  {
   "cell_type": "code",
   "execution_count": null,
   "id": "a64f3617",
   "metadata": {},
   "outputs": [],
   "source": [
    "!pip install pybacting"
   ]
  },
  {
   "cell_type": "code",
   "execution_count": null,
   "id": "d5899245",
   "metadata": {
    "collapsed": false
   },
   "outputs": [],
   "source": [
    "from pybacting import qudt\n",
    "\n",
    "quantity = qudt.newQuantity(1.0, \"m\")\n",
    "print(quantity)\n",
    "converted = qudt.convertTo(quantity, \"cm\");\n",
    "print(converted)"
   ]
  }
 ],
 "metadata": {},
 "nbformat": 4,
 "nbformat_minor": 5
}
