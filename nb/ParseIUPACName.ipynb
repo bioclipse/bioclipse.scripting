{
 "cells": [
  {
   "cell_type": "code",
   "execution_count": null,
   "id": "8f382b32",
   "metadata": {},
   "outputs": [],
   "source": [
    "!apt install maven"
   ]
  },
  {
   "cell_type": "code",
   "execution_count": null,
   "id": "cb884dcb",
   "metadata": {},
   "outputs": [],
   "source": [
    "!pip install pybacting"
   ]
  },
  {
   "cell_type": "code",
   "execution_count": null,
   "id": "a6f26cb8",
   "metadata": {
    "collapsed": false
   },
   "outputs": [],
   "source": [
    "from pybacting import opsin\n",
    "\n",
    "mol = opsin.parseIUPACName(\n",
    "  \"Ethyl [(1R,3aR,4aR,6R,8aR,9S,9aS)-9-\" +\n",
    "  \"{(E)-2-[5-(3-fluorophenyl)-2-pyridinyl]vinyl}-\" +\n",
    "  \"1-methyl-3-oxododecahydronaphtho[2,3-c]furan-\" +\n",
    "  \"6-yl]carbamate\"\n",
    ")\n",
    "print(mol)"
   ]
  }
 ],
 "metadata": {},
 "nbformat": 4,
 "nbformat_minor": 5
}
