{
 "cells": [
  {
   "cell_type": "code",
   "execution_count": null,
   "id": "0134f120",
   "metadata": {},
   "outputs": [],
   "source": [
    "!apt install maven"
   ]
  },
  {
   "cell_type": "code",
   "execution_count": null,
   "id": "c875e085",
   "metadata": {},
   "outputs": [],
   "source": [
    "!pip install pybacting"
   ]
  },
  {
   "cell_type": "code",
   "execution_count": null,
   "id": "5d001860",
   "metadata": {
    "collapsed": false
   },
   "outputs": [],
   "source": [
    "from pybacting import opsin\n",
    "\n",
    "mol = opsin.parseIUPACName(\n",
    "  \"Ethyl [(1R,3aR,4aR,6R,8aR,9S,9aS)-9-\" +\n",
    "  \"{(E)-2-[5-(3-fluorophenyl)-2-pyridinyl]vinyl}-\" +\n",
    "  \"1-methyl-3-oxododecahydronaphtho[2,3-c]furan-\" +\n",
    "  \"6-yl]carbamate\"\n",
    ")\n",
    "print(mol)"
   ]
  }
 ],
 "metadata": {},
 "nbformat": 4,
 "nbformat_minor": 5
}
